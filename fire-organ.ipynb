{
 "cells": [
  {
   "cell_type": "markdown",
   "id": "99171faf",
   "metadata": {},
   "source": [
    "# Cut-list calculation for fire organ"
   ]
  },
  {
   "cell_type": "code",
   "execution_count": 12,
   "id": "17068ace",
   "metadata": {},
   "outputs": [],
   "source": [
    "from pint import UnitRegistry\n",
    "unit = UnitRegistry()"
   ]
  },
  {
   "cell_type": "code",
   "execution_count": 17,
   "id": "6ebbb268",
   "metadata": {},
   "outputs": [
    {
     "data": {
      "text/plain": [
       "{'A1': 2.3454545454545452 <Unit('meter')>,\n",
       " 'C2': 1.9721755083320593 <Unit('meter')>,\n",
       " 'D2': 1.7570144374829746 <Unit('meter')>,\n",
       " 'Ef2': 1.6585240421702236 <Unit('meter')>,\n",
       " 'E2': 1.5653440116490718 <Unit('meter')>,\n",
       " 'G2': 1.316326530612245 <Unit('meter')>,\n",
       " 'A2': 1.1727272727272726 <Unit('meter')>,\n",
       " 'C3': 0.9861631373748184 <Unit('meter')>,\n",
       " 'D3': 0.8785670503303139 <Unit('meter')>,\n",
       " 'Ef3': 0.8292620210851118 <Unit('meter')>,\n",
       " 'E3': 0.7827194951762636 <Unit('meter')>,\n",
       " 'G3': 0.6581632653061225 <Unit('meter')>}"
      ]
     },
     "execution_count": 17,
     "metadata": {},
     "output_type": "execute_result"
    }
   ],
   "source": [
    "speed_of_sound = 258 * unit.meter\n",
    "\n",
    "scale = {\n",
    "    'A1': 55,\n",
    "    'C2': 65.41,\n",
    "    'D2': 73.42,\n",
    "    'Ef2': 77.78,\n",
    "    'E2': 82.41,\n",
    "    'G2': 98,\n",
    "    'A2': 110,\n",
    "    'C3': 130.81,\n",
    "    'D3': 146.83,\n",
    "    'Ef3': 155.56,\n",
    "    'E3': 164.81,\n",
    "    'G3': 196\n",
    "}\n",
    "\n",
    "\n",
    "\n",
    "def wave_len(frequency: float) -> float:\n",
    "    return speed_of_sound / frequency\n",
    "\n",
    "def pipe_len(frequency: float) -> float:\n",
    "    return speed_of_sound / frequency / 2\n",
    "\n",
    "theoretical_lens = {k: pipe_len(v) for k, v in scale.items()}\n",
    "theoretical_lens"
   ]
  },
  {
   "cell_type": "code",
   "execution_count": 25,
   "id": "067af8de",
   "metadata": {},
   "outputs": [
    {
     "name": "stdout",
     "output_type": "stream",
     "text": [
      "10.16 centimeter\n",
      "4.0 inch\n"
     ]
    },
    {
     "data": {
      "text/plain": [
       "{'A1': 2.2438545454545453 <Unit('meter')>,\n",
       " 'C2': 1.8705755083320594 <Unit('meter')>,\n",
       " 'D2': 1.6554144374829747 <Unit('meter')>,\n",
       " 'Ef2': 1.5569240421702237 <Unit('meter')>,\n",
       " 'E2': 1.4637440116490719 <Unit('meter')>,\n",
       " 'G2': 1.214726530612245 <Unit('meter')>,\n",
       " 'A2': 1.0711272727272727 <Unit('meter')>,\n",
       " 'C3': 0.8845631373748184 <Unit('meter')>,\n",
       " 'D3': 0.7769670503303139 <Unit('meter')>,\n",
       " 'Ef3': 0.7276620210851118 <Unit('meter')>,\n",
       " 'E3': 0.6811194951762636 <Unit('meter')>,\n",
       " 'G3': 0.5565632653061224 <Unit('meter')>}"
      ]
     },
     "execution_count": 25,
     "metadata": {},
     "output_type": "execute_result"
    }
   ],
   "source": [
    "# Compensate for diameter\n",
    "internal_diameter_in = 2.0 * unit.inch\n",
    "id_m = internal_diameter_in.to(unit.centimeter)\n",
    "d_comp = id_m * 2\n",
    "print(d_comp)\n",
    "print(d_comp.to('inch'))\n",
    "\n",
    "# Compensation for internal bushing\n",
    "bushing_len = 0 * unit.meter\n",
    "\n",
    "def compensation(plen: float) -> float:\n",
    "    return plen + bushing_len - d_comp\n",
    "\n",
    "comp_len = {k: compensation(v) for k, v in theoretical_lens.items()}\n",
    "comp_len"
   ]
  },
  {
   "cell_type": "code",
   "execution_count": 27,
   "id": "7e3e61d2",
   "metadata": {},
   "outputs": [
    {
     "data": {
      "text/plain": [
       "{'A1': 88.34073013600572 <Unit('inch')>,\n",
       " 'C2': 73.64470505244329 <Unit('inch')>,\n",
       " 'D2': 65.17379675129821 <Unit('inch')>,\n",
       " 'Ef2': 61.296222132685976 <Unit('inch')>,\n",
       " 'E2': 57.62771699405795 <Unit('inch')>,\n",
       " 'G2': 47.8238791579624 <Unit('inch')>,\n",
       " 'A2': 42.170365068002866 <Unit('inch')>,\n",
       " 'C3': 34.825320369087336 <Unit('inch')>,\n",
       " 'D3': 30.58925395001236 <Unit('inch')>,\n",
       " 'Ef3': 28.648111066342985 <Unit('inch')>,\n",
       " 'E3': 26.81572815654581 <Unit('inch')>,\n",
       " 'G3': 21.911939578981197 <Unit('inch')>}"
      ]
     },
     "execution_count": 27,
     "metadata": {},
     "output_type": "execute_result"
    }
   ],
   "source": [
    "{k: v.to('inch') for k, v in comp_len.items()}"
   ]
  },
  {
   "cell_type": "code",
   "execution_count": 6,
   "id": "0c766fac",
   "metadata": {},
   "outputs": [
    {
     "ename": "ModuleNotFoundError",
     "evalue": "No module named 'binpacking'",
     "output_type": "error",
     "traceback": [
      "\u001b[0;31m---------------------------------------------------------------------------\u001b[0m",
      "\u001b[0;31mModuleNotFoundError\u001b[0m                       Traceback (most recent call last)",
      "Input \u001b[0;32mIn [6]\u001b[0m, in \u001b[0;36m<cell line: 4>\u001b[0;34m()\u001b[0m\n\u001b[1;32m      1\u001b[0m \u001b[38;5;66;03m# Calculate cult-list\u001b[39;00m\n\u001b[1;32m      2\u001b[0m \u001b[38;5;66;03m# Minimize waste using binpacking algorithm\u001b[39;00m\n\u001b[0;32m----> 4\u001b[0m \u001b[38;5;28;01mimport\u001b[39;00m \u001b[38;5;21;01mbinpacking\u001b[39;00m\n\u001b[1;32m      6\u001b[0m needed \u001b[38;5;241m=\u001b[39m pipe_lengths\n\u001b[1;32m      7\u001b[0m \u001b[38;5;28mprint\u001b[39m(binpacking\u001b[38;5;241m.\u001b[39mto_constant_volume(needed, \u001b[38;5;241m100\u001b[39m))\n",
      "\u001b[0;31mModuleNotFoundError\u001b[0m: No module named 'binpacking'"
     ]
    }
   ],
   "source": [
    "# Calculate cult-list\n",
    "# Minimize waste using binpacking algorithm\n",
    "\n",
    "import binpacking\n",
    "\n",
    "needed = pipe_lengths\n",
    "print(binpacking.to_constant_volume(needed, 100))"
   ]
  },
  {
   "cell_type": "code",
   "execution_count": 64,
   "id": "c6b64e21",
   "metadata": {},
   "outputs": [
    {
     "name": "stdout",
     "output_type": "stream",
     "text": [
      "fit 2.2438545454545453 meter\n",
      "cut new pipe: 2.2438545454545453 meter -| 0.8041454545454543 meter\n",
      "fit 1.8705755083320594 meter\n",
      "cut new pipe: 1.8705755083320594 meter -| 1.1774244916679402 meter\n",
      "fit 1.6554144374829747 meter\n",
      "cut new pipe: 1.6554144374829747 meter -| 1.392585562517025 meter\n",
      "fit 1.5569240421702237 meter\n",
      "cut new pipe: 1.5569240421702237 meter -| 1.4910759578297759 meter\n",
      "fit 1.4637440116490719 meter\n",
      "use scrap [[<Quantity(1.55692404, 'meter')>], <Quantity(1.49107596, 'meter')>]\n",
      "cut_list[j]=[[<Quantity(1.55692404, 'meter')>, <Quantity(1.46374401, 'meter')>], <Quantity(0.0273319462, 'meter')>]\n",
      "fit 1.214726530612245 meter\n",
      "use scrap [[<Quantity(1.65541444, 'meter')>], <Quantity(1.39258556, 'meter')>]\n",
      "cut_list[j]=[[<Quantity(1.65541444, 'meter')>, <Quantity(1.21472653, 'meter')>], <Quantity(0.177859032, 'meter')>]\n",
      "fit 1.0711272727272727 meter\n",
      "use scrap [[<Quantity(1.87057551, 'meter')>], <Quantity(1.17742449, 'meter')>]\n",
      "cut_list[j]=[[<Quantity(1.87057551, 'meter')>, <Quantity(1.07112727, 'meter')>], <Quantity(0.106297219, 'meter')>]\n",
      "fit 0.8845631373748184 meter\n",
      "cut new pipe: 0.8845631373748184 meter -| 2.163436862625181 meter\n",
      "fit 0.7769670503303139 meter\n",
      "use scrap [[<Quantity(2.24385455, 'meter')>], <Quantity(0.804145455, 'meter')>]\n",
      "cut_list[j]=[[<Quantity(2.24385455, 'meter')>, <Quantity(0.77696705, 'meter')>], <Quantity(0.0271784042, 'meter')>]\n",
      "fit 0.7276620210851118 meter\n",
      "use scrap [[<Quantity(0.884563137, 'meter')>], <Quantity(2.16343686, 'meter')>]\n",
      "cut_list[j]=[[<Quantity(0.884563137, 'meter')>, <Quantity(0.727662021, 'meter')>], <Quantity(1.43577484, 'meter')>]\n",
      "fit 0.6811194951762636 meter\n",
      "use scrap [[<Quantity(0.884563137, 'meter')>, <Quantity(0.727662021, 'meter')>], <Quantity(1.43577484, 'meter')>]\n",
      "cut_list[j]=[[<Quantity(0.884563137, 'meter')>, <Quantity(0.727662021, 'meter')>, <Quantity(0.681119495, 'meter')>], <Quantity(0.754655346, 'meter')>]\n",
      "fit 0.5565632653061224 meter\n",
      "use scrap [[<Quantity(0.884563137, 'meter')>, <Quantity(0.727662021, 'meter')>, <Quantity(0.681119495, 'meter')>], <Quantity(0.754655346, 'meter')>]\n",
      "cut_list[j]=[[<Quantity(0.884563137, 'meter')>, <Quantity(0.727662021, 'meter')>, <Quantity(0.681119495, 'meter')>, <Quantity(0.556563265, 'meter')>], <Quantity(0.198092081, 'meter')>]\n"
     ]
    },
    {
     "data": {
      "text/plain": [
       "{0: [[2.2438545454545453 <Unit('meter')>, 0.7769670503303139 <Unit('meter')>],\n",
       "  0.027178404215140395 <Unit('meter')>],\n",
       " 1: [[1.8705755083320594 <Unit('meter')>, 1.0711272727272727 <Unit('meter')>],\n",
       "  0.10629721894066746 <Unit('meter')>],\n",
       " 2: [[1.6554144374829747 <Unit('meter')>, 1.214726530612245 <Unit('meter')>],\n",
       "  0.17785903190477992 <Unit('meter')>],\n",
       " 3: [[1.5569240421702237 <Unit('meter')>, 1.4637440116490719 <Unit('meter')>],\n",
       "  0.027331946180704003 <Unit('meter')>],\n",
       " 4: [[0.8845631373748184 <Unit('meter')>,\n",
       "   0.7276620210851118 <Unit('meter')>,\n",
       "   0.6811194951762636 <Unit('meter')>,\n",
       "   0.5565632653061224 <Unit('meter')>],\n",
       "  0.19809208105768306 <Unit('meter')>]}"
      ]
     },
     "execution_count": 64,
     "metadata": {},
     "output_type": "execute_result"
    }
   ],
   "source": [
    "# Cut List\n",
    "\n",
    "stock_len = 10 * unit.feet\n",
    "stock_len = stock_len.to('meters')\n",
    "\n",
    "cut_list = []\n",
    "\n",
    "def use_scrap(p_len):\n",
    "    for j, pipe in enumerate(cut_list):\n",
    "        scrap = pipe[1]\n",
    "        if scrap > p_len:\n",
    "            print(f'use scrap {cut_list[j]}')\n",
    "            cut_list[j][1] = scrap - p_len\n",
    "            cut_list[j][0].append(p_len)\n",
    "            print(f'{cut_list[j]=}')\n",
    "            return True\n",
    "    return False\n",
    "            \n",
    "\n",
    "for p_len in comp_len.values():\n",
    "    print(f'fit {p_len}')\n",
    "    if use_scrap(p_len):\n",
    "        next\n",
    "    else:\n",
    "        print(f'cut new pipe: {p_len} -| {stock_len - p_len}')\n",
    "        cut_list.append([[p_len, ], stock_len - p_len])\n",
    "        \n",
    "{i: cuts for i, cuts in enumerate(cut_list)}"
   ]
  },
  {
   "cell_type": "code",
   "execution_count": 65,
   "id": "9cb9f4d4",
   "metadata": {},
   "outputs": [
    {
     "data": {
      "text/plain": [
       "{0: [7.36172751133381 <Unit('foot')>, 2.549104495834363 <Unit('foot')>],\n",
       " 1: [6.1370587543702735 <Unit('foot')>, 3.5141970890002385 <Unit('foot')>],\n",
       " 2: [5.431149729274852 <Unit('foot')>, 3.985323263163534 <Unit('foot')>],\n",
       " 3: [5.108018511057165 <Unit('foot')>, 4.802309749504829 <Unit('foot')>],\n",
       " 4: [2.9021100307572785 <Unit('foot')>,\n",
       "  2.3873425888619155 <Unit('foot')>,\n",
       "  2.234644013045484 <Unit('foot')>,\n",
       "  1.8259949649151 <Unit('foot')>]}"
      ]
     },
     "execution_count": 65,
     "metadata": {},
     "output_type": "execute_result"
    }
   ],
   "source": [
    "{i: [cut.to('feet') for cut in cuts[0]] for i, cuts in enumerate(cut_list)}"
   ]
  },
  {
   "cell_type": "code",
   "execution_count": null,
   "id": "c9b38401",
   "metadata": {},
   "outputs": [],
   "source": []
  }
 ],
 "metadata": {
  "kernelspec": {
   "display_name": "Python 3 (ipykernel)",
   "language": "python",
   "name": "python3"
  },
  "language_info": {
   "codemirror_mode": {
    "name": "ipython",
    "version": 3
   },
   "file_extension": ".py",
   "mimetype": "text/x-python",
   "name": "python",
   "nbconvert_exporter": "python",
   "pygments_lexer": "ipython3",
   "version": "3.10.4"
  }
 },
 "nbformat": 4,
 "nbformat_minor": 5
}
